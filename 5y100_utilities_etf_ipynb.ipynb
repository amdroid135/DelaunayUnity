{
  "nbformat": 4,
  "nbformat_minor": 0,
  "metadata": {
    "colab": {
      "provenance": [],
      "authorship_tag": "ABX9TyNxWfvbnXkC5fz+WP392hEF",
      "include_colab_link": true
    },
    "kernelspec": {
      "name": "python3",
      "display_name": "Python 3"
    },
    "language_info": {
      "name": "python"
    }
  },
  "cells": [
    {
      "cell_type": "markdown",
      "metadata": {
        "id": "view-in-github",
        "colab_type": "text"
      },
      "source": [
        "<a href=\"https://colab.research.google.com/github/proprieties/DelaunayUnity/blob/master/5y100_utilities_etf_ipynb.ipynb\" target=\"_parent\"><img src=\"https://colab.research.google.com/assets/colab-badge.svg\" alt=\"Open In Colab\"/></a>"
      ]
    },
    {
      "cell_type": "code",
      "execution_count": null,
      "metadata": {
        "colab": {
          "base_uri": "https://localhost:8080/"
        },
        "id": "jz00o4znv7uV",
        "outputId": "5fcedbf1-74e8-4d7c-c3bd-af487b3c328f"
      },
      "outputs": [
        {
          "output_type": "stream",
          "name": "stderr",
          "text": [
            "<ipython-input-1-815da2297568>:44: FutureWarning: The behavior of DataFrame concatenation with empty or all-NA entries is deprecated. In a future version, this will no longer exclude empty or all-NA columns when determining the result dtypes. To retain the old behavior, exclude the relevant entries before the concat operation.\n",
            "  results = pd.concat([results, pd.DataFrame([{\n"
          ]
        },
        {
          "output_type": "stream",
          "name": "stdout",
          "text": [
            "    ETF  Year  5-Year Return (%)  Market Cap (B) Dividend Yield (%)  \\\n",
            "0   GLD  2004              94.95           78.37                N/A   \n",
            "1   GLD  2009              34.66           78.37                N/A   \n",
            "2   GLD  2014               2.75           78.37                N/A   \n",
            "3   GLD  2019              57.56           78.37                N/A   \n",
            "4   XLE  1994               0.34           35.34                N/A   \n",
            "5   XLE  1999              29.03           35.34                N/A   \n",
            "6   XLE  2004              85.30           35.34                N/A   \n",
            "7   XLE  2009              92.94           35.34                N/A   \n",
            "8   XLE  2014             -24.53           35.34                N/A   \n",
            "9   XLE  2019              84.66           35.34                N/A   \n",
            "10  SLV  2004             -18.91           16.16                N/A   \n",
            "11  SLV  2009              63.98           16.16                N/A   \n",
            "12  SLV  2014             -24.49           16.16                N/A   \n",
            "13  SLV  2019              49.59           16.16                N/A   \n",
            "14  XME  2004             -37.03            1.84                N/A   \n",
            "15  XME  2009              47.47            1.84                N/A   \n",
            "16  XME  2014             -33.33            1.84                N/A   \n",
            "17  XME  2019             142.42            1.84                N/A   \n",
            "18  USO  2004             -51.34            1.39                N/A   \n",
            "19  USO  2009              -0.87            1.39                N/A   \n",
            "20  USO  2014             -71.78            1.39                N/A   \n",
            "21  USO  2019             -15.42            1.39                N/A   \n",
            "22  DBC  2004              -6.62            1.43                N/A   \n",
            "23  DBC  2009              17.01            1.43                N/A   \n",
            "24  DBC  2014             -41.96            1.43                N/A   \n",
            "25  DBC  2019              62.67            1.43                N/A   \n",
            "26  GSG  2004             -41.91            0.90                N/A   \n",
            "27  GSG  2009               8.71            0.90                N/A   \n",
            "28  GSG  2014             -55.29            0.90                N/A   \n",
            "29  GSG  2019              42.37            0.90                N/A   \n",
            "30  MXI  2004             -17.38            0.23                N/A   \n",
            "31  MXI  2009              70.62            0.23                N/A   \n",
            "32  MXI  2014               4.09            0.23                N/A   \n",
            "33  MXI  2019              78.97            0.23                N/A   \n",
            "\n",
            "   Expense Ratio (%)  \n",
            "0                N/A  \n",
            "1                N/A  \n",
            "2                N/A  \n",
            "3                N/A  \n",
            "4                N/A  \n",
            "5                N/A  \n",
            "6                N/A  \n",
            "7                N/A  \n",
            "8                N/A  \n",
            "9                N/A  \n",
            "10               N/A  \n",
            "11               N/A  \n",
            "12               N/A  \n",
            "13               N/A  \n",
            "14               N/A  \n",
            "15               N/A  \n",
            "16               N/A  \n",
            "17               N/A  \n",
            "18               N/A  \n",
            "19               N/A  \n",
            "20               N/A  \n",
            "21               N/A  \n",
            "22               N/A  \n",
            "23               N/A  \n",
            "24               N/A  \n",
            "25               N/A  \n",
            "26               N/A  \n",
            "27               N/A  \n",
            "28               N/A  \n",
            "29               N/A  \n",
            "30               N/A  \n",
            "31               N/A  \n",
            "32               N/A  \n",
            "33               N/A  \n"
          ]
        }
      ],
      "source": [
        "\n",
        "import yfinance as yf\n",
        "import pandas as pd\n",
        "\n",
        "# ETF 목록\n",
        "etfs = [\n",
        "    \"GLD\", \"XLE\", \"SLV\", \"XME\", \"USO\", \"DBC\", \"GSG\", \"MXI\"\n",
        "]\n",
        "\n",
        "# 분석 기간 설정\n",
        "start_year = 1924\n",
        "end_year = 2024\n",
        "interval = 5  # 5년 단위\n",
        "\n",
        "# 결과를 저장할 데이터프레임 초기화\n",
        "results = pd.DataFrame(columns=[\"ETF\", \"Year\", \"5-Year Return (%)\", \"Market Cap (B)\", \"Dividend Yield (%)\", \"Expense Ratio (%)\"])\n",
        "\n",
        "for etf in etfs:\n",
        "    try:\n",
        "        # ETF 데이터 다운로드\n",
        "        ticker = yf.Ticker(etf)\n",
        "        hist = ticker.history(period=\"max\")\n",
        "\n",
        "        # 날짜와 종가만 사용\n",
        "        hist = hist[[\"Close\"]].reset_index()\n",
        "        hist[\"Year\"] = hist[\"Date\"].dt.year\n",
        "\n",
        "        for year in range(start_year, end_year, interval):\n",
        "            # 해당 5년 데이터 필터링\n",
        "            data_5yr = hist[(hist[\"Year\"] >= year) & (hist[\"Year\"] < year + interval)]\n",
        "            if data_5yr.empty:\n",
        "                continue\n",
        "\n",
        "            # 수익률 계산\n",
        "            start_price = data_5yr.iloc[0][\"Close\"]\n",
        "            end_price = data_5yr.iloc[-1][\"Close\"]\n",
        "            five_year_return = ((end_price - start_price) / start_price) * 100\n",
        "\n",
        "            # 기타 정보 가져오기\n",
        "            market_cap = ticker.info.get(\"totalAssets\", \"N/A\")  # 시가총액\n",
        "            dividend_yield = ticker.info.get(\"dividendYield\", \"N/A\")\n",
        "            expense_ratio = ticker.info.get(\"expenseRatio\", \"N/A\")\n",
        "\n",
        "            # 데이터프레임에 추가\n",
        "            results = pd.concat([results, pd.DataFrame([{\n",
        "                \"ETF\": etf,\n",
        "                \"Year\": year,\n",
        "                \"5-Year Return (%)\": round(five_year_return, 2),\n",
        "                \"Market Cap (B)\": round(market_cap / 1e9, 2) if market_cap != \"N/A\" else \"N/A\",\n",
        "                \"Dividend Yield (%)\": round(dividend_yield * 100, 2) if dividend_yield != \"N/A\" else \"N/A\",\n",
        "                \"Expense Ratio (%)\": round(expense_ratio * 100, 2) if expense_ratio != \"N/A\" else \"N/A\"\n",
        "            }])], ignore_index=True)\n",
        "\n",
        "    except Exception as e:\n",
        "        print(f\"Error processing {etf}: {e}\")\n",
        "\n",
        "# 결과 출력\n",
        "print(results)\n",
        "\n",
        "# CSV로 저장 (선택사항)\n",
        "results.to_csv(\"etf_analysis.csv\", index=False)"
      ]
    },
    {
      "cell_type": "code",
      "source": [],
      "metadata": {
        "id": "7OuxHOnS_qvo"
      },
      "execution_count": null,
      "outputs": []
    }
  ]
}